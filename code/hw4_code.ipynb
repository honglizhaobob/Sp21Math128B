{
 "cells": [
  {
   "cell_type": "code",
   "execution_count": 4,
   "metadata": {},
   "outputs": [],
   "source": [
    "# reference code for HW4 P1\n",
    "import numpy as np\n",
    "import numpy.linalg as la\n",
    "# set random seed for generating matrices\n",
    "np.random.seed(10)"
   ]
  },
  {
   "cell_type": "code",
   "execution_count": 141,
   "metadata": {},
   "outputs": [],
   "source": [
    "def conj_grad(A, b, x0, n=100, tol=1e-4):\n",
    "    # (7.31) from B&F\n",
    "    \"\"\" conjugate gradient method without preconditioning \n",
    "    A   (numpy.ndarray)    (N x N) matrix\n",
    "    b   (numpy.ndarray)    (N x 1) vector\n",
    "    x0  (numpy.ndarray)    (N x 1) initial guess\n",
    "    n   (int)              number of iterations allowed\n",
    "    tol (float)            tolerance, default 1e-6\n",
    "    \"\"\"\n",
    "    k = 0\n",
    "    r_new = b - A@x0\n",
    "    xk = x0\n",
    "    vk = r_new\n",
    "    r_old = r_new\n",
    "    all_err = np.array([])\n",
    "    while k <= n:\n",
    "        k += 1\n",
    "        if la.norm(r_new) < tol:\n",
    "            return xk, all_err\n",
    "        else:\n",
    "            all_err = np.append(all_err, la.norm(r_new, float('inf')))\n",
    "            tk = r_old.dot(r_old)/vk.dot(A@vk)\n",
    "            r_new = r_new - tk*(A@vk)\n",
    "            sk = r_new.dot(r_new)/r_old.dot(r_old)\n",
    "            xk = xk + tk*vk\n",
    "            vk = r_new + sk*vk\n",
    "            r_old = r_new\n",
    "    raise FloatingPointError(\"CG could not converge\")"
   ]
  },
  {
   "cell_type": "code",
   "execution_count": 142,
   "metadata": {},
   "outputs": [],
   "source": [
    "A = np.array([\n",
    "    [4, 1],\n",
    "    [1, 3]\n",
    "])\n",
    "b = np.array([1,2])\n",
    "x0 = np.array([2, 1])\n",
    "x_exact = la.solve(A, b)\n",
    "x_cg, all_err = conj_grad(A, b, x0)"
   ]
  },
  {
   "cell_type": "code",
   "execution_count": 143,
   "metadata": {},
   "outputs": [
    {
     "data": {
      "text/plain": [
       "array([8.        , 0.74924471])"
      ]
     },
     "execution_count": 143,
     "metadata": {},
     "output_type": "execute_result"
    }
   ],
   "source": [
    "all_err"
   ]
  },
  {
   "cell_type": "code",
   "execution_count": 144,
   "metadata": {},
   "outputs": [
    {
     "data": {
      "text/plain": [
       "array([0.09090909, 0.63636364])"
      ]
     },
     "execution_count": 144,
     "metadata": {},
     "output_type": "execute_result"
    }
   ],
   "source": [
    "# exact\n",
    "la.inv(A)@b"
   ]
  },
  {
   "cell_type": "code",
   "execution_count": 145,
   "metadata": {},
   "outputs": [
    {
     "data": {
      "text/plain": [
       "array([0.09090909, 0.63636364])"
      ]
     },
     "execution_count": 145,
     "metadata": {},
     "output_type": "execute_result"
    }
   ],
   "source": [
    "# CG should converge in 2 steps, as shown in len(all_err)\n",
    "x_cg"
   ]
  }
 ],
 "metadata": {
  "kernelspec": {
   "display_name": "Python 3",
   "language": "python",
   "name": "python3"
  },
  "language_info": {
   "codemirror_mode": {
    "name": "ipython",
    "version": 3
   },
   "file_extension": ".py",
   "mimetype": "text/x-python",
   "name": "python",
   "nbconvert_exporter": "python",
   "pygments_lexer": "ipython3",
   "version": "3.7.4"
  }
 },
 "nbformat": 4,
 "nbformat_minor": 2
}
