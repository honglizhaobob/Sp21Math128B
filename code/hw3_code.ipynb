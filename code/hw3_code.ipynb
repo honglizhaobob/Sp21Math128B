{
 "cells": [
  {
   "cell_type": "code",
   "execution_count": 1,
   "metadata": {},
   "outputs": [],
   "source": [
    "import numpy as np\n",
    "import numpy.linalg as la\n",
    "import sympy as sym"
   ]
  },
  {
   "cell_type": "code",
   "execution_count": 2,
   "metadata": {},
   "outputs": [
    {
     "data": {
      "text/latex": [
       "$\\displaystyle \\left[\\begin{matrix}\\frac{473}{475}\\\\\\frac{91}{95}\\\\\\frac{376}{475}\\end{matrix}\\right]$"
      ],
      "text/plain": [
       "Matrix([\n",
       "[473/475],\n",
       "[  91/95],\n",
       "[376/475]])"
      ]
     },
     "execution_count": 2,
     "metadata": {},
     "output_type": "execute_result"
    }
   ],
   "source": [
    "# exact solution\n",
    "A = sym.Matrix([ \n",
    "    [10, -1, 0],\n",
    "    [-1, 10, -2],\n",
    "    [0, -2, 10]\n",
    "])\n",
    "\n",
    "b = sym.Matrix([9, 7, 6])\n",
    "A**(-1)*b"
   ]
  },
  {
   "cell_type": "code",
   "execution_count": 3,
   "metadata": {},
   "outputs": [
    {
     "data": {
      "text/plain": [
       "array([[0.99578947],\n",
       "       [0.95789474],\n",
       "       [0.79157895]])"
      ]
     },
     "execution_count": 3,
     "metadata": {},
     "output_type": "execute_result"
    }
   ],
   "source": [
    "# numerical\n",
    "A = np.array(A).astype('float')\n",
    "b = np.array(b).astype('float')\n",
    "la.solve(A, b)"
   ]
  },
  {
   "cell_type": "code",
   "execution_count": 10,
   "metadata": {},
   "outputs": [
    {
     "data": {
      "text/plain": [
       "array([[-0.2     , -0.12    ,  0.      ],\n",
       "       [ 0.024   , -0.1856  , -0.24    ],\n",
       "       [-0.00576 ,  0.044544, -0.1424  ]])"
      ]
     },
     "execution_count": 10,
     "metadata": {},
     "output_type": "execute_result"
    }
   ],
   "source": [
    "D = np.diag(np.diag(A))\n",
    "L = (A - D)\n",
    "L[1,2] = 0; L[0, 1] = 0\n",
    "U = L.T\n",
    "w = 1.2\n",
    "Tw = np.round(la.inv(D-w*L)@((1-w)*D+w*U), 7)\n",
    "Tw"
   ]
  },
  {
   "cell_type": "code",
   "execution_count": 24,
   "metadata": {},
   "outputs": [
    {
     "name": "stdout",
     "output_type": "stream",
     "text": [
      "cw:\n",
      " [[1.08    ]\n",
      " [0.7104  ]\n",
      " [0.549504]]\n",
      "x_1:\n",
      " [[0.76    ]\n",
      " [0.3088  ]\n",
      " [0.445888]]\n",
      "x_2:\n",
      " [[0.890944  ]\n",
      " [0.5643136 ]\n",
      " [0.49538714]]\n"
     ]
    }
   ],
   "source": [
    "cw = w*la.inv(D-w*L)@b\n",
    "print(\"cw:\\n\", cw)\n",
    "x0 = np.array([1,1,1]).reshape(-1,1)\n",
    "x1 = Tw@x0 + cw\n",
    "x2 = Tw@x1 + cw\n",
    "print(\"x_1:\\n\", x1)\n",
    "print(\"x_2:\\n\", x2)"
   ]
  },
  {
   "cell_type": "code",
   "execution_count": 29,
   "metadata": {},
   "outputs": [
    {
     "data": {
      "text/plain": [
       "array([[1.08    ],\n",
       "       [0.7104  ],\n",
       "       [0.549504]])"
      ]
     },
     "execution_count": 29,
     "metadata": {},
     "output_type": "execute_result"
    }
   ],
   "source": [
    "w*(la.inv(D-w*L))@b"
   ]
  },
  {
   "cell_type": "code",
   "execution_count": 134,
   "metadata": {},
   "outputs": [
    {
     "data": {
      "text/latex": [
       "$\\displaystyle \\left[\\begin{matrix}10.0\\\\1.0\\end{matrix}\\right]$"
      ],
      "text/plain": [
       "Matrix([\n",
       "[10.0],\n",
       "[ 1.0]])"
      ]
     },
     "execution_count": 134,
     "metadata": {},
     "output_type": "execute_result"
    }
   ],
   "source": [
    "#Q3\n",
    "A = sym.Matrix([\n",
    "    [0.03, 58.9],\n",
    "    [5.31, -6.1]\n",
    "])\n",
    "b = sym.Matrix([59.2, 47.0])\n",
    "A**(-1)*b"
   ]
  },
  {
   "cell_type": "code",
   "execution_count": 143,
   "metadata": {},
   "outputs": [
    {
     "data": {
      "text/plain": [
       "12.240127563574083"
      ]
     },
     "execution_count": 143,
     "metadata": {},
     "output_type": "execute_result"
    }
   ],
   "source": [
    "A = np.array(A).astype('float64')\n",
    "la.norm(la.inv(A), inf)*la.norm(A, inf)"
   ]
  },
  {
   "cell_type": "code",
   "execution_count": 56,
   "metadata": {},
   "outputs": [
    {
     "data": {
      "text/plain": [
       "array([-1.99506618e+01,  1.01616274e-02])"
      ]
     },
     "execution_count": 56,
     "metadata": {},
     "output_type": "execute_result"
    }
   ],
   "source": [
    "r1 = np.array([0, -106])\n",
    "c1 = la.solve(A, r1)\n",
    "c1"
   ]
  },
  {
   "cell_type": "code",
   "execution_count": 111,
   "metadata": {},
   "outputs": [
    {
     "data": {
      "text/latex": [
       "$\\displaystyle \\left[\\begin{matrix}1.81818181823473\\\\0.590914090891602\\end{matrix}\\right]$"
      ],
      "text/plain": [
       "Matrix([\n",
       "[ 1.81818181823473],\n",
       "[0.590914090891602]])"
      ]
     },
     "execution_count": 111,
     "metadata": {},
     "output_type": "execute_result"
    }
   ],
   "source": [
    "# Q4\n",
    "from decimal import *\n",
    "getcontext().prec = 12\n",
    "A = sym.Matrix([\n",
    "    [1 , 2],\n",
    "    [1.00001 , 2]\n",
    "])\n",
    "\n",
    "A = sym.Matrix(A)\n",
    "b = sym.Matrix([3, 3.00001])\n",
    "\n",
    "dA = sym.Matrix([\n",
    "    [0 , 0],\n",
    "    [0.000001 , 0]\n",
    "])\n",
    "db = sym.Matrix([0.00001, 0.00002])\n",
    "\n",
    "At = A + dA\n",
    "bt = b + db\n",
    "\n",
    "xt"
   ]
  },
  {
   "cell_type": "code",
   "execution_count": 121,
   "metadata": {},
   "outputs": [
    {
     "data": {
      "text/plain": [
       "0.8181818000000001"
      ]
     },
     "execution_count": 121,
     "metadata": {},
     "output_type": "execute_result"
    }
   ],
   "source": [
    "x_exact = np.array([1,1]).reshape(-1,1)\n",
    "inf = float('inf')\n",
    "x_pert = np.round(np.array(xt).astype('float'), 7)\n",
    "LHS = la.norm(x_exact - x_pert, inf)\n",
    "LHS"
   ]
  },
  {
   "cell_type": "code",
   "execution_count": 131,
   "metadata": {},
   "outputs": [
    {
     "data": {
      "text/plain": [
       "5.000000000028225e-06"
      ]
     },
     "execution_count": 131,
     "metadata": {},
     "output_type": "execute_result"
    }
   ],
   "source": [
    "A_exact = np.array(A).astype('float')\n",
    "b_exact = np.array(b).astype('float')\n",
    "dA = np.array(dA).astype('float')\n",
    "db = np.array(db).astype('float')\n",
    "cond_A = la.norm(la.inv(A_exact), inf)*la.norm(A_exact, inf)\n",
    "RHS = (cond_A*la.norm(A_exact, inf))/(la.norm(A_exact, inf)-cond_A*la.norm(dA, inf)) \n",
    "RHS = RHS * (la.norm(db, inf)/la.norm(b_exact, inf) + la.norm(dA, inf)/la.norm(A_exact, inf))\n",
    "RHS\n",
    "1/la.norm(la.inv(A_exact), inf)"
   ]
  },
  {
   "cell_type": "code",
   "execution_count": 103,
   "metadata": {},
   "outputs": [
    {
     "data": {
      "text/plain": [
       "1e-06"
      ]
     },
     "execution_count": 103,
     "metadata": {},
     "output_type": "execute_result"
    }
   ],
   "source": [
    "la.norm(dA, inf)"
   ]
  },
  {
   "cell_type": "code",
   "execution_count": 115,
   "metadata": {},
   "outputs": [
    {
     "data": {
      "text/plain": [
       "4.500015"
      ]
     },
     "execution_count": 115,
     "metadata": {},
     "output_type": "execute_result"
    }
   ],
   "source": [
    "la.norm(A_exact**(-1), inf)*la.norm(A_exact, inf)"
   ]
  },
  {
   "cell_type": "code",
   "execution_count": 132,
   "metadata": {},
   "outputs": [
    {
     "data": {
      "text/plain": [
       "3.16228082246027"
      ]
     },
     "execution_count": 132,
     "metadata": {},
     "output_type": "execute_result"
    }
   ],
   "source": [
    "la.norm(A_exact)"
   ]
  },
  {
   "cell_type": "code",
   "execution_count": null,
   "metadata": {},
   "outputs": [],
   "source": []
  }
 ],
 "metadata": {
  "kernelspec": {
   "display_name": "Python 3",
   "language": "python",
   "name": "python3"
  },
  "language_info": {
   "codemirror_mode": {
    "name": "ipython",
    "version": 3
   },
   "file_extension": ".py",
   "mimetype": "text/x-python",
   "name": "python",
   "nbconvert_exporter": "python",
   "pygments_lexer": "ipython3",
   "version": "3.7.4"
  }
 },
 "nbformat": 4,
 "nbformat_minor": 2
}
