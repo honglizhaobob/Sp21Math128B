{
 "cells": [
  {
   "cell_type": "code",
   "execution_count": 2,
   "metadata": {},
   "outputs": [],
   "source": [
    "import numpy as np\n",
    "import scipy as sp\n",
    "import matplotlib.pyplot as plt\n",
    "%matplotlib inline"
   ]
  },
  {
   "cell_type": "markdown",
   "metadata": {},
   "source": [
    "# Problem 1: Nonlinear Shooting with Newton's Method"
   ]
  },
  {
   "cell_type": "code",
   "execution_count": 72,
   "metadata": {},
   "outputs": [],
   "source": [
    "# Problem 1: Nonlinear shooting with Newton's Method\n",
    "\n",
    "def prob1_rhs(w, x):\n",
    "    \"\"\" computes right hand side (see solution derivation). \"\"\"\n",
    "    w1, w2, w3, w4 = w[0], w[1], w[2], w[3]\n",
    "    return np.array([w2, (-w2**2)-w1+np.log(x), w4, -w3-2*w2*w4])\n",
    "\n",
    "\n",
    "def rk4(w0, h, rhs, x_start=1, x_end=2):\n",
    "    \"\"\" standard Runge-Kutta integrator. \n",
    "    \n",
    "    Input:\n",
    "        w0                 initial condition\n",
    "        h                  stepsize\n",
    "        rhs                function to compute rhs, takes in w\n",
    "        x_start, x_end     specify domain for integration\n",
    "    Output:\n",
    "        w_history          full dynamics of w from x_start to x_end\n",
    "        x_grid             grid generated during integration   \n",
    "    \"\"\"\n",
    "    # number of grid points\n",
    "    N = int((x_end - x_start) / h)\n",
    "    x_grid = np.linspace(x_start, x_end, N+1)\n",
    "    w_history = np.zeros([len(w0), N+1])\n",
    "    w_history[:, 0] = w0\n",
    "    for i in range(N):\n",
    "        k1 = h * rhs(w_history[:, i], x_grid[i])\n",
    "        k2 = h * rhs(w_history[:, i] + k1/2, x_grid[i] + h/2)\n",
    "        k3 = h * rhs(w_history[:, i] + k2/2, x_grid[i] + h/2)\n",
    "        k4 = h * rhs(w_history[:, i] + k3, x_grid[i] + h)\n",
    "        k = (1/6) * (k1 + 2*k2 + 2*k3 + k4)\n",
    "        # advance one step\n",
    "        w_history[:, i+1] = w_history[:, i] + k\n",
    "    return w_history, x_grid\n",
    "\n",
    "\n",
    "def nonlinear_shooting(a, b, h, alpha=0, beta=np.log(2), tol=1e-8):\n",
    "    \"\"\" nonlinear shooting algorithm for sovling two point BVP.\n",
    "    Reinterpreted version of alg. 11.2 from Textbook.\n",
    "    \n",
    "    Input:\n",
    "        a, b                  spatial domain x_start, x_end\n",
    "        alpha, beta           boundary conditions for y\n",
    "        h                     step size for integrator\n",
    "        tol                   tolerance, default to 1e-08\n",
    "    \n",
    "    Output:\n",
    "        \n",
    "    \"\"\"\n",
    "    # initialize params\n",
    "    t0 = ( beta - alpha ) / (b - a)\n",
    "    w0 = np.array([0, t0, 0, 1])\n",
    "    w_k = w0\n",
    "    t_k = t0\n",
    "    t_history = []\n",
    "    t_history.append(t_k)\n",
    "    # loop, breaks loop when error is small\n",
    "    while True:\n",
    "        # shoot\n",
    "        w_k_history, x_grid = rk4(w0, h, prob1_rhs, x_start=1, x_end=2)\n",
    "        # take approximated right end point, compare with beta\n",
    "        y_approx = w_k_history[0, w_k_history.shape[1]-1]\n",
    "        z_approx = w_k_history[2, w_k_history.shape[1]-1]\n",
    "        end_error = y_approx - beta\n",
    "        if abs(end_error) < tol:\n",
    "            print(\"> solution converged\")\n",
    "            break\n",
    "        # otherwise adjust initial slope for re-shooting\n",
    "        t_k = t_k - (end_error / z_approx)\n",
    "        t_history.append(t_k)\n",
    "        w0[1] = t_k\n",
    "    # after looping, return best w_k, and adjustment history\n",
    "    final_w = w_k_history\n",
    "    \n",
    "    return x_grid, final_w, t_history"
   ]
  },
  {
   "cell_type": "code",
   "execution_count": 73,
   "metadata": {},
   "outputs": [],
   "source": [
    "# computations"
   ]
  },
  {
   "cell_type": "code",
   "execution_count": 81,
   "metadata": {},
   "outputs": [
    {
     "name": "stdout",
     "output_type": "stream",
     "text": [
      "> solution converged\n"
     ]
    }
   ],
   "source": [
    "x_grid, w, test2 = nonlinear_shooting(1, 2, 0.5, alpha=0, beta=np.log(2), tol=1e-8)"
   ]
  },
  {
   "cell_type": "code",
   "execution_count": 84,
   "metadata": {},
   "outputs": [
    {
     "data": {
      "text/plain": [
       "[<matplotlib.lines.Line2D at 0x7f8e4ab92fa0>]"
      ]
     },
     "execution_count": 84,
     "metadata": {},
     "output_type": "execute_result"
    },
    {
     "data": {
      "image/png": "[encoded data removed]",
      "text/plain": [
       "<Figure size 432x288 with 1 Axes>"
      ]
     },
     "metadata": {
      "needs_background": "light"
     },
     "output_type": "display_data"
    },
    {
     "data": {
      "image/png": "[encoded data removed]",
      "text/plain": [
       "<Figure size 432x288 with 1 Axes>"
      ]
     },
     "metadata": {
      "needs_background": "light"
     },
     "output_type": "display_data"
    }
   ],
   "source": [
    "# plotting \n",
    "y_dynamics = w[0, :]\n",
    "plt.plot(x_grid, y_dynamics, x_grid, np.log(x_grid))\n",
    "plt.figure(2)\n",
    "plt.plot(x_grid, abs(y_dynamics-np.log(x_grid)))"
   ]
  },
  {
   "cell_type": "markdown",
   "metadata": {},
   "source": [
    "# Problem 2: Finite Difference Method for Nonlinear BVP"
   ]
  },
  {
   "cell_type": "code",
   "execution_count": 128,
   "metadata": {},
   "outputs": [],
   "source": [
    "def prob2_rhs(x, y, y_p):\n",
    "    \"\"\" right hand side for y'' = f(x, y, y'). \"\"\"\n",
    "    return -(y_p**2) - y + np.log(x)\n",
    "\n",
    "def J(w, h):\n",
    "    \"\"\" Helper function to generate Jacobian matrix. \"\"\"\n",
    "    # scipy.sparse.diags\n",
    "    N = len(w)-2 # exclude boundary\n",
    "    # compute w_prime using centered difference\n",
    "    print(w[1+1:(N+1)+1])\n",
    "    print( w[1-1:(N+1)-1])\n",
    "    w_prime = (1/(2*h)) * ( w[1+1:(N+1)+1] - w[1-1:(N+1)-1] )\n",
    "    upp_diag = -1 - h*w_prime\n",
    "    low_diag = -1 + h*w_prime\n",
    "    diag = (2 - h**2) * np.ones(N)\n",
    "    J = sp.sparse.diags()\n",
    "    return J\n",
    "    \n",
    "\n",
    "def fdfbvp_solver(a, b, alpha, beta, h, tol=1e-8):\n",
    "    \"\"\" finite difference BVP solver using Newton's Iteration. \n",
    "        Generates an equally spaced grid with step size h\n",
    "    \n",
    "    Input:\n",
    "        a, b                      x_start, x_end\n",
    "        alpha, beta               boundary conditions\n",
    "        h                         step size\n",
    "        tol                       vector error tolerance default 1e-8\n",
    "    Output:\n",
    "        y_approx                  numerical solution on grid points\n",
    "    \"\"\"\n",
    "    # number of grid points\n",
    "    N = int(((b-a)/h))-1\n",
    "    # initialize w\n",
    "    w = np.zeros(N+2) # w0, w1, ..., wn, wn+1\n",
    "    w[0] = alpha\n",
    "    slope = (beta-alpha)/(b-a)\n",
    "    w[1:N+2] = alpha + np.arange(1, N+2) * slope * h\n",
    "        \n",
    "    \n",
    "    \n",
    "    \n",
    "    \n",
    "    return w"
   ]
  },
  {
   "cell_type": "code",
   "execution_count": 129,
   "metadata": {},
   "outputs": [
    {
     "data": {
      "text/plain": [
       "array([0.        , 0.06931472, 0.13862944, 0.20794415, 0.27725887,\n",
       "       0.34657359, 0.41588831, 0.48520303, 0.55451774, 0.62383246,\n",
       "       0.69314718])"
      ]
     },
     "execution_count": 129,
     "metadata": {},
     "output_type": "execute_result"
    }
   ],
   "source": [
    "fdfbvp_solver(a=1, b=2, alpha=0, beta=np.log(2), h=0.1, tol=1e-8)"
   ]
  },
  {
   "cell_type": "code",
   "execution_count": 130,
   "metadata": {},
   "outputs": [
    {
     "name": "stdout",
     "output_type": "stream",
     "text": [
      "[2 3 4 5 6 7 8 9]\n",
      "[0 1 2 3 4 5 6 7]\n"
     ]
    }
   ],
   "source": [
    "test = np.arange(10)\n",
    "J(test, 1)"
   ]
  },
  {
   "cell_type": "code",
   "execution_count": 127,
   "metadata": {},
   "outputs": [
    {
     "data": {
      "text/plain": [
       "array([0, 1, 2, 3, 4, 5, 6, 7, 8, 9])"
      ]
     },
     "execution_count": 127,
     "metadata": {},
     "output_type": "execute_result"
    }
   ],
   "source": [
    "test"
   ]
  },
  {
   "cell_type": "markdown",
   "metadata": {},
   "source": [
    "# Problem 3"
   ]
  },
  {
   "cell_type": "code",
   "execution_count": null,
   "metadata": {},
   "outputs": [],
   "source": []
  },
  {
   "cell_type": "code",
   "execution_count": null,
   "metadata": {},
   "outputs": [],
   "source": []
  },
  {
   "cell_type": "code",
   "execution_count": null,
   "metadata": {},
   "outputs": [],
   "source": []
  },
  {
   "cell_type": "code",
   "execution_count": null,
   "metadata": {},
   "outputs": [],
   "source": []
  },
  {
   "cell_type": "code",
   "execution_count": null,
   "metadata": {},
   "outputs": [],
   "source": []
  },
  {
   "cell_type": "markdown",
   "metadata": {},
   "source": [
    "# Problem 4"
   ]
  },
  {
   "cell_type": "code",
   "execution_count": null,
   "metadata": {},
   "outputs": [],
   "source": []
  },
  {
   "cell_type": "code",
   "execution_count": null,
   "metadata": {},
   "outputs": [],
   "source": []
  },
  {
   "cell_type": "code",
   "execution_count": null,
   "metadata": {},
   "outputs": [],
   "source": []
  },
  {
   "cell_type": "code",
   "execution_count": null,
   "metadata": {},
   "outputs": [],
   "source": []
  },
  {
   "cell_type": "code",
   "execution_count": null,
   "metadata": {},
   "outputs": [],
   "source": []
  },
  {
   "cell_type": "code",
   "execution_count": null,
   "metadata": {},
   "outputs": [],
   "source": []
  },
  {
   "cell_type": "code",
   "execution_count": null,
   "metadata": {},
   "outputs": [],
   "source": []
  },
  {
   "cell_type": "code",
   "execution_count": null,
   "metadata": {},
   "outputs": [],
   "source": []
  },
  {
   "cell_type": "code",
   "execution_count": null,
   "metadata": {},
   "outputs": [],
   "source": []
  },
  {
   "cell_type": "code",
   "execution_count": null,
   "metadata": {},
   "outputs": [],
   "source": []
  },
  {
   "cell_type": "markdown",
   "metadata": {},
   "source": [
    "# Problem 5"
   ]
  },
  {
   "cell_type": "code",
   "execution_count": null,
   "metadata": {},
   "outputs": [],
   "source": []
  },
  {
   "cell_type": "code",
   "execution_count": null,
   "metadata": {},
   "outputs": [],
   "source": []
  },
  {
   "cell_type": "code",
   "execution_count": null,
   "metadata": {},
   "outputs": [],
   "source": []
  },
  {
   "cell_type": "code",
   "execution_count": null,
   "metadata": {},
   "outputs": [],
   "source": []
  },
  {
   "cell_type": "code",
   "execution_count": null,
   "metadata": {},
   "outputs": [],
   "source": []
  },
  {
   "cell_type": "code",
   "execution_count": null,
   "metadata": {},
   "outputs": [],
   "source": []
  },
  {
   "cell_type": "code",
   "execution_count": null,
   "metadata": {},
   "outputs": [],
   "source": []
  },
  {
   "cell_type": "code",
   "execution_count": null,
   "metadata": {},
   "outputs": [],
   "source": []
  }
 ],
 "metadata": {
  "kernelspec": {
   "display_name": "Python 3",
   "language": "python",
   "name": "python3"
  },
  "language_info": {
   "codemirror_mode": {
    "name": "ipython",
    "version": 3
   },
   "file_extension": ".py",
   "mimetype": "text/x-python",
   "name": "python",
   "nbconvert_exporter": "python",
   "pygments_lexer": "ipython3",
   "version": "3.8.5"
  }
 },
 "nbformat": 4,
 "nbformat_minor": 4
}
