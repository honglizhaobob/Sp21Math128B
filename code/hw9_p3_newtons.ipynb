{
 "cells": [
  {
   "cell_type": "code",
   "execution_count": 190,
   "metadata": {},
   "outputs": [
    {
     "data": {
      "text/plain": [
       "J (generic function with 1 method)"
      ]
     },
     "execution_count": 190,
     "metadata": {},
     "output_type": "execute_result"
    }
   ],
   "source": [
    "# P3 Newton's Method\n",
    "using LinearAlgebra\n",
    "function newtons(x0, F, J, random_start, tol=1e-10, maxit=100, verbose=false)\n",
    "    #==\n",
    "    Implementation of Newton's method assuming direct access to J\n",
    "    ==#\n",
    "    if random_start == true\n",
    "        # generate random start\n",
    "        x0 = rand(Float64, (length(x0), 1));\n",
    "    end\n",
    "    N = length(x0);\n",
    "    all_x = zeros(N, maxit);\n",
    "    all_x[:, 1] = x0;\n",
    "    num_it = 1;\n",
    "    all_err = [];\n",
    "    x_curr = x0;\n",
    "    while (num_it <= maxit)\n",
    "        i = num_it;\n",
    "        x_prev = x_curr;\n",
    "        # solve for y\n",
    "        y = -J(x_curr)\\F(x_curr);\n",
    "        # update x_curr\n",
    "        x_curr = x_curr + y;\n",
    "        # store history\n",
    "        all_x[:, i] = x_curr;\n",
    "        # check convergence\n",
    "        err = norm(y);\n",
    "        all_err = append!(all_err, err);\n",
    "        if err < tol\n",
    "            println(\"===== converged\");\n",
    "            break \n",
    "        end\n",
    "        num_it += 1;\n",
    "    end\n",
    "    return all_x[:, 1:num_it-1], all_err\n",
    "end\n",
    "\n",
    "# P3 functions\n",
    "function F(x)\n",
    "    #== helper function, takes in x of size 3 by 1==# \n",
    "    x1 = x[1];\n",
    "    x2 = x[2];\n",
    "    x3 = x[3];\n",
    "    return [x1^2+x2-37; x1-x2^2-5; sum(x)-3];\n",
    "end\n",
    "\n",
    "function J(x)\n",
    "    #== helper function, takes in x of size 3 by 1 and \n",
    "    computes Jacobian of size 3 by 3 ==#\n",
    "    x1, x2, x3 = x;\n",
    "    N = length(x);\n",
    "    Jx = zeros(N, N);\n",
    "    Jx[1, 1] = 2*x1; \n",
    "    Jx[1, 2] = 1; \n",
    "    Jx[2, 1] = 1;\n",
    "    Jx[2, 2] = -2*x2;\n",
    "    Jx[3, 1] = 1;\n",
    "    Jx[3, 2] = 1;\n",
    "    Jx[3, 3] = 1;\n",
    "    return Jx;\n",
    "end"
   ]
  },
  {
   "cell_type": "code",
   "execution_count": 191,
   "metadata": {},
   "outputs": [
    {
     "name": "stdout",
     "output_type": "stream",
     "text": [
      "===== converged\n"
     ]
    }
   ],
   "source": [
    "x0 = [100;1000;13210];\n",
    "all_x, all_err = newtons(x0, F, J, true, 1e-10);"
   ]
  },
  {
   "cell_type": "code",
   "execution_count": 192,
   "metadata": {},
   "outputs": [
    {
     "data": {
      "text/plain": [
       "3×10 Matrix{Float64}:\n",
       "  49.2311   24.8454   13.0171    7.77926  …   5.99749   5.99996   6.0   6.0\n",
       "  28.0316   14.3698    7.46384   3.9181       1.03049   1.00043   1.0   1.0\n",
       " -74.2627  -36.2152  -17.4809   -8.69736     -4.02798  -4.0004   -4.0  -4.0"
      ]
     },
     "execution_count": 192,
     "metadata": {},
     "output_type": "execute_result"
    }
   ],
   "source": [
    "all_x"
   ]
  },
  {
   "cell_type": "code",
   "execution_count": 193,
   "metadata": {
    "scrolled": true
   },
   "outputs": [
    {
     "data": {
      "text/plain": [
       "11-element Vector{Any}:\n",
       " 93.51644466724949\n",
       " 47.21145333109397\n",
       " 23.207141626254703\n",
       " 10.823973300783608\n",
       "  4.240792760066012\n",
       "  1.2817266334696407\n",
       "  0.3461529384813618\n",
       "  0.040870629089773\n",
       "  0.0005898078630249815\n",
       "  1.2286133417257642e-7\n",
       "  4.8255478180902664e-15"
      ]
     },
     "execution_count": 193,
     "metadata": {},
     "output_type": "execute_result"
    }
   ],
   "source": [
    "all_err"
   ]
  }
 ],
 "metadata": {
  "kernelspec": {
   "display_name": "Julia 1.6.0",
   "language": "julia",
   "name": "julia-1.6"
  },
  "language_info": {
   "file_extension": ".jl",
   "mimetype": "application/julia",
   "name": "julia",
   "version": "1.6.0"
  }
 },
 "nbformat": 4,
 "nbformat_minor": 4
}
